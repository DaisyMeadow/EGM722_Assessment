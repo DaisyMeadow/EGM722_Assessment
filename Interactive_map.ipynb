{
 "cells": [
  {
   "cell_type": "markdown",
   "id": "9b35db3e",
   "metadata": {},
   "source": [
    "# Interactive Map"
   ]
  },
  {
   "cell_type": "code",
   "execution_count": null,
   "id": "534198a3",
   "metadata": {},
   "outputs": [],
   "source": [
    "import pandas as pd\n",
    "import geopandas as gpd\n",
    "import folium\n",
    "import matplotlib.colors as colors"
   ]
  },
  {
   "cell_type": "code",
   "execution_count": null,
   "id": "6dc7296b",
   "metadata": {},
   "outputs": [],
   "source": [
    "counties = gpd.read_file('data_files/NI_Counties.shp')\n",
    "counties.to_crs(epsg=4326, inplace=True)"
   ]
  },
  {
   "cell_type": "code",
   "execution_count": null,
   "id": "ecbbe4a4",
   "metadata": {},
   "outputs": [],
   "source": [
    "xmin, ymin, xmax, ymax = counties.total_bounds\n",
    "x = xmin+((xmax-xmin)/2)\n",
    "y = ymin+((ymax-ymin)/2)\n",
    "centre = [y, x]"
   ]
  },
  {
   "cell_type": "code",
   "execution_count": null,
   "id": "a2b532c0",
   "metadata": {},
   "outputs": [],
   "source": [
    "m = folium.Map(centre, zoom_start=8)\n",
    "m"
   ]
  },
  {
   "cell_type": "code",
   "execution_count": null,
   "id": "e63a3b54",
   "metadata": {},
   "outputs": [],
   "source": [
    "sites = gpd.read_file('data_files/Site_Locations.shp')"
   ]
  },
  {
   "cell_type": "code",
   "execution_count": null,
   "id": "92e85b20",
   "metadata": {},
   "outputs": [],
   "source": [
    "sites = sites.rename(columns={'Name': 'Site Name'})"
   ]
  },
  {
   "cell_type": "code",
   "execution_count": null,
   "id": "9209f507",
   "metadata": {},
   "outputs": [],
   "source": [
    "proximity_info = pd.read_csv('output_files/Proximity_analysis.csv')\n",
    "characteristics_info = pd.read_csv('output_files/Site_characteristics.csv')"
   ]
  },
  {
   "cell_type": "code",
   "execution_count": null,
   "id": "ab11405f",
   "metadata": {},
   "outputs": [],
   "source": [
    "sites_with_info = sites.merge(proximity_info, on='Site Name')\n",
    "sites_with_info = sites_with_info.merge(characteristics_info, on='Site Name')"
   ]
  },
  {
   "cell_type": "code",
   "execution_count": null,
   "id": "c86767b5",
   "metadata": {},
   "outputs": [],
   "source": [
    "site_colors = ['orangered', 'olivedrab', 'dodgerblue']"
   ]
  },
  {
   "cell_type": "code",
   "execution_count": null,
   "id": "3abab6a7",
   "metadata": {},
   "outputs": [],
   "source": [
    "sites_with_info.explore(m=m, column='Site Name', cmap=colors.ListedColormap(site_colors))\n",
    "m"
   ]
  },
  {
   "cell_type": "code",
   "execution_count": null,
   "id": "bbfc18ac",
   "metadata": {},
   "outputs": [],
   "source": [
    "m.save('output_files/Site_Analysis_Results.html') # save to html"
   ]
  }
 ],
 "metadata": {
  "kernelspec": {
   "display_name": "Python 3 (ipykernel)",
   "language": "python",
   "name": "python3"
  },
  "language_info": {
   "codemirror_mode": {
    "name": "ipython",
    "version": 3
   },
   "file_extension": ".py",
   "mimetype": "text/x-python",
   "name": "python",
   "nbconvert_exporter": "python",
   "pygments_lexer": "ipython3",
   "version": "3.9.16"
  }
 },
 "nbformat": 4,
 "nbformat_minor": 5
}
