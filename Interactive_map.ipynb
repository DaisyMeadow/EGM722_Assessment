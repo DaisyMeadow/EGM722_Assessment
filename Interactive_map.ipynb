{
 "cells": [
  {
   "cell_type": "markdown",
   "id": "9b35db3e",
   "metadata": {},
   "source": [
    "# Interactive Map"
   ]
  },
  {
   "cell_type": "code",
   "execution_count": null,
   "id": "534198a3",
   "metadata": {},
   "outputs": [],
   "source": [
    "import pandas as pd\n",
    "import geopandas as gpd\n",
    "import folium\n",
    "import matplotlib.colors as colors"
   ]
  },
  {
   "cell_type": "code",
   "execution_count": null,
   "id": "6dc7296b",
   "metadata": {},
   "outputs": [],
   "source": [
    "counties = gpd.read_file('data_files/NI_Counties.shp')\n",
    "counties.to_crs(epsg=4326, inplace=True)"
   ]
  },
  {
   "cell_type": "code",
   "execution_count": null,
   "id": "ecbbe4a4",
   "metadata": {},
   "outputs": [],
   "source": [
    "xmin, ymin, xmax, ymax = counties.total_bounds\n",
    "x = xmin+((xmax-xmin)/2)\n",
    "y = ymin+((ymax-ymin)/2)\n",
    "centre = [y, x]"
   ]
  },
  {
   "cell_type": "code",
   "execution_count": null,
   "id": "a2b532c0",
   "metadata": {},
   "outputs": [],
   "source": [
    "m = folium.Map(centre, zoom_start=9)\n",
    "m"
   ]
  },
  {
   "cell_type": "code",
   "execution_count": null,
   "id": "e63a3b54",
   "metadata": {},
   "outputs": [],
   "source": [
    "sites = gpd.read_file('data_files/Site_Locations.shp')"
   ]
  },
  {
   "cell_type": "code",
   "execution_count": null,
   "id": "92e85b20",
   "metadata": {},
   "outputs": [],
   "source": [
    "sites = sites.rename(columns={'Name': 'Site Name'})"
   ]
  },
  {
   "cell_type": "code",
   "execution_count": null,
   "id": "9209f507",
   "metadata": {},
   "outputs": [],
   "source": [
    "proximity_info = pd.read_csv('output_files/Proximity_analysis.csv')\n",
    "characteristics_info = pd.read_csv('output_files/Site_characteristics.csv')"
   ]
  },
  {
   "cell_type": "code",
   "execution_count": null,
   "id": "ab11405f",
   "metadata": {},
   "outputs": [],
   "source": [
    "sites_with_info = sites.merge(proximity_info, on='Site Name')\n",
    "sites_with_info = sites_with_info.merge(characteristics_info, on='Site Name')"
   ]
  },
  {
   "cell_type": "code",
   "execution_count": null,
   "id": "c86767b5",
   "metadata": {},
   "outputs": [],
   "source": [
    "site_colors = ['orangered', 'olivedrab', 'dodgerblue']"
   ]
  },
  {
   "cell_type": "code",
   "execution_count": null,
   "id": "cc6ef7bf",
   "metadata": {},
   "outputs": [],
   "source": [
    "sites_args = {\n",
    "    'm': m, # add the markers to the same map we just created\n",
    "    'cmap': colors.ListedColormap(site_colors),\n",
    "    'tooltip': False,\n",
    "    'popup': True\n",
    "}"
   ]
  },
  {
   "cell_type": "code",
   "execution_count": null,
   "id": "2a0775f2",
   "metadata": {
    "scrolled": true
   },
   "outputs": [],
   "source": [
    "# use the sites_args with the ** unpacking operator to plot sites\n",
    "sites_with_info.explore('Site Name', **sites_args)"
   ]
  },
  {
   "cell_type": "code",
   "execution_count": null,
   "id": "6ed0f142",
   "metadata": {},
   "outputs": [],
   "source": [
    "df = pd.read_csv('data_files/NI_Airports.csv') # read the csv data\n",
    "\n",
    "# create a new geodataframe\n",
    "airports = gpd.GeoDataFrame(df[['Name', 'Website']], # use the csv data, but only the name/website columns\n",
    "                            # set the geometry using points_from_xy\n",
    "                            geometry=gpd.points_from_xy(df['Longitude'], df['Latitude']), \n",
    "                            crs='epsg:4326') # set the CRS using a text representation of the EPSG code for WGS84 lat/lon"
   ]
  },
  {
   "cell_type": "code",
   "execution_count": null,
   "id": "f0ea8e17",
   "metadata": {},
   "outputs": [],
   "source": [
    "df = pd.read_csv('data_files/NI_Harbours.csv') # read the csv data\n",
    "\n",
    "# create a new geodataframe\n",
    "harbours = gpd.GeoDataFrame(df[['Name', 'Website']], # use the csv data, but only the name/website columns\n",
    "                            # set the geometry using points_from_xy\n",
    "                            geometry=gpd.points_from_xy(df['Longitude'], df['Latitude']), \n",
    "                            crs='epsg:4326') # set the CRS using a text representation of the EPSG code for WGS84 lat/lon"
   ]
  },
  {
   "cell_type": "code",
   "execution_count": null,
   "id": "97248fa4",
   "metadata": {},
   "outputs": [],
   "source": [
    "airport_args = {\n",
    "    'm': m, # add the markers to the same map we just created\n",
    "    'marker_type': 'marker', # use a marker for the points, instead of a circle\n",
    "    'tooltip': False,\n",
    "    'popup': True, # show the information as a popup when we click on the marker\n",
    "    'legend': False, # don't show a separate legend for the point layer\n",
    "    'marker_kwds': {'icon': folium.Icon(color='red', icon='plane', prefix='fa')} # make the markers red with a plane icon from FA\n",
    "}"
   ]
  },
  {
   "cell_type": "code",
   "execution_count": null,
   "id": "0dd63f78",
   "metadata": {},
   "outputs": [],
   "source": [
    "harbours_args = {\n",
    "    'm': m, # add the markers to the same map we just created\n",
    "    'marker_type': 'marker', # use a marker for the points, instead of a circle\n",
    "    'tooltip': False,\n",
    "    'popup': True, # show the information as a popup when we click on the marker\n",
    "    'legend': False, # don't show a separate legend for the point layer\n",
    "    'marker_kwds': {'icon': folium.Icon(color='green', icon='ship', prefix='fa')} # make the markers red with a plane icon from FA\n",
    "}"
   ]
  },
  {
   "cell_type": "code",
   "execution_count": null,
   "id": "4c1ce45e",
   "metadata": {},
   "outputs": [],
   "source": [
    "# use the airport_args with the ** unpacking operator - more on this next week!\n",
    "airports.explore('Name', **airport_args)\n",
    "\n",
    "# use the airport_args with the ** unpacking operator - more on this next week!\n",
    "harbours.explore('Name', **harbours_args)"
   ]
  },
  {
   "cell_type": "code",
   "execution_count": null,
   "id": "bbfc18ac",
   "metadata": {},
   "outputs": [],
   "source": [
    "m.save('output_files/Site_analysis_results_with_transport.html') # save to html"
   ]
  },
  {
   "cell_type": "code",
   "execution_count": null,
   "id": "07ad7d97",
   "metadata": {},
   "outputs": [],
   "source": [
    "sites_info_streamlined = sites_with_info[['geometry','Site Name', 'DistNearestAONB']].copy()"
   ]
  },
  {
   "cell_type": "code",
   "execution_count": null,
   "id": "d577b61f",
   "metadata": {},
   "outputs": [],
   "source": [
    "# use the sites_args with the ** unpacking operator to plot sites\n",
    "sites_info_streamlined.explore('Site Name', **sites_args)"
   ]
  },
  {
   "cell_type": "code",
   "execution_count": null,
   "id": "2f777037",
   "metadata": {},
   "outputs": [],
   "source": [
    "m.save('output_files/Site_analysis_results_with_transport_streamlined.html') # save to html"
   ]
  },
  {
   "cell_type": "markdown",
   "id": "c20d5402",
   "metadata": {},
   "source": [
    "The inetractive map htmls can now be found in the output_files folder"
   ]
  }
 ],
 "metadata": {
  "kernelspec": {
   "display_name": "Python 3 (ipykernel)",
   "language": "python",
   "name": "python3"
  },
  "language_info": {
   "codemirror_mode": {
    "name": "ipython",
    "version": 3
   },
   "file_extension": ".py",
   "mimetype": "text/x-python",
   "name": "python",
   "nbconvert_exporter": "python",
   "pygments_lexer": "ipython3",
   "version": "3.9.16"
  }
 },
 "nbformat": 4,
 "nbformat_minor": 5
}
