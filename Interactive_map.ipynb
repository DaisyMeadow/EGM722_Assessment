{
 "cells": [
  {
   "cell_type": "markdown",
   "id": "9b35db3e",
   "metadata": {},
   "source": [
    "# Interactive Map\n",
    "\n",
    "This Jupyter Notebook facilitates the investigation of transport routes for wind farm construction. An interactive map html is outputted to the output_files folder which displays the transport network across Northern Ireland with icons representing the harbours and airport (with popups containing their website addresses). The proposed site locations are also displayed with popups containing the results of the proximity and site characteristics analyses.\n",
    "\n",
    "There is an optional section at the end of the Jupyter Notebook to create an additional interactive map output html that, alongside the transport information, contains a streamlined proximity and site characteristic results popup.\n",
    "\n",
    "**Warning!** - This Notebook can only be utilized after the proximity analysis (Proximity_analysis.py) and site characteristics analysis (Site_characteristics.py) have been undertaken as the outputs from these analyses are used as inputs for the interactive map. The inputs and outputs of this notebook are outlined below. \n",
    "\n",
    "***Inputs: <br>***\n",
    "- data_files/NI_Counties.shp <br>\n",
    "- data_files/Site_Locations.shp <br>\n",
    "- output_files/Proximity_analysis.csv <br>\n",
    "- output_files/Site_characteristics.csv <br>\n",
    "- data_files/NI_Airports.csv <br>\n",
    "- data_files/NI_Harbours.csv <br>\n",
    "\n",
    "***Outputs: <br>***\n",
    "- output_files/Site_analysis_results_with_transport.html <br>\n",
    "- output_files/Site_analysis_results_with_transport_streamlined.html *(optional)*"
   ]
  },
  {
   "cell_type": "markdown",
   "id": "593868ef",
   "metadata": {},
   "source": [
    "## The Procedure\n",
    "The interactive maps are created by running the code cells below. Notes describing what each section of code does can be found above each code cell (and in some cases within the code as comments)."
   ]
  },
  {
   "cell_type": "markdown",
   "id": "3946f3fc",
   "metadata": {},
   "source": [
    "Running the cell below will import **pandas**, **geopandas**, **folium** and **matplotlib.colors**, all of which are required in the code below. \n",
    "\n",
    "*Note:* We will import **matplotlib.colors** under an alias of **colors**."
   ]
  },
  {
   "cell_type": "code",
   "execution_count": null,
   "id": "534198a3",
   "metadata": {},
   "outputs": [],
   "source": [
    "import pandas as pd\n",
    "import geopandas as gpd\n",
    "import folium\n",
    "import matplotlib.colors as colors"
   ]
  },
  {
   "cell_type": "markdown",
   "id": "d6173927",
   "metadata": {},
   "source": [
    "The interactive map will be created using **folium**. Firstly, we want to create a location to zoom the interactive map to when it is initially opened by finding the centre of the extent of the input data (study extent).\n",
    "\n",
    "To do this we will use the extent of the counties shapefile here as our study extent. The counties shapefile is loaded using **geopanda**'s .read_file() function which will create a GeoDataFrame called **counties**.\n",
    "\n",
    "The starting coordinates to pass to **folium** should be in latitude /longitude format so we will set the CRS of the counties layer to the EPSG code for WGS84 lat/lon here (4326)."
   ]
  },
  {
   "cell_type": "code",
   "execution_count": null,
   "id": "6dc7296b",
   "metadata": {},
   "outputs": [],
   "source": [
    "counties = gpd.read_file('data_files/NI_Counties.shp')\n",
    "counties.to_crs(epsg=4326, inplace=True)"
   ]
  },
  {
   "cell_type": "markdown",
   "id": "b656878f",
   "metadata": {},
   "source": [
    "The total bounds of the counties data are used to find max and min x and y values for the study extent. The starting coordinates are then calculated by finding the midpoint of the x values and midpoint of the y values.\n",
    "\n",
    "*Note:* The centre (starting coordinates) are formatted as [y, x] as y represents the latitude and x represents the longitude."
   ]
  },
  {
   "cell_type": "code",
   "execution_count": null,
   "id": "ecbbe4a4",
   "metadata": {},
   "outputs": [],
   "source": [
    "xmin, ymin, xmax, ymax = counties.total_bounds\n",
    "# the x midpoint is calulted by dividing the range in x values by 2 and adding this to the x min value\n",
    "x = xmin+((xmax-xmin)/2)\n",
    "# the y midpoint is calulted by dividing the range in y values by 2 and adding this to the y min value\n",
    "y = ymin+((ymax-ymin)/2)\n",
    "centre = [y, x]"
   ]
  },
  {
   "cell_type": "markdown",
   "id": "45c2a266",
   "metadata": {},
   "source": [
    "We will now create our **folium** map by passing our starting coordinates and an initial zoom to **folium**’s Map() function. We will call our map **m** and display it here.\n",
    "\n",
    "If you are using this notebook for a study in a different area please feel free to experiment with the initial zoom value here by re-running the cell and increasing/decreasing the zoom_start value. *Note:* The zoom_start value should be an integer."
   ]
  },
  {
   "cell_type": "code",
   "execution_count": null,
   "id": "a2b532c0",
   "metadata": {},
   "outputs": [],
   "source": [
    "m = folium.Map(centre, zoom_start=9)\n",
    "m"
   ]
  },
  {
   "cell_type": "markdown",
   "id": "3af0b9c6",
   "metadata": {},
   "source": [
    "The sites shapefile is loaded using the **geopanda**’s .read_file() function which will create a GeoDataFrame called **sites**."
   ]
  },
  {
   "cell_type": "code",
   "execution_count": null,
   "id": "e63a3b54",
   "metadata": {},
   "outputs": [],
   "source": [
    "sites = gpd.read_file('data_files/Site_Locations.shp')"
   ]
  },
  {
   "cell_type": "markdown",
   "id": "ad2cfe7f",
   "metadata": {},
   "source": [
    "We will rename the **sites** GeoDataFrame naming column label from **Name** to **Site Name** here to ensure that the naming column label will match those of the results CSVs containing the site information."
   ]
  },
  {
   "cell_type": "code",
   "execution_count": null,
   "id": "92e85b20",
   "metadata": {},
   "outputs": [],
   "source": [
    "sites = sites.rename(columns={'Name': 'Site Name'})"
   ]
  },
  {
   "cell_type": "markdown",
   "id": "4c8767dc",
   "metadata": {},
   "source": [
    "The proximity analysis and site characteristics results CSVs are loaded using **panda**’s read_csv() function creating two DataFrames called **proximity_info** and **characteristics_info**."
   ]
  },
  {
   "cell_type": "code",
   "execution_count": null,
   "id": "9209f507",
   "metadata": {},
   "outputs": [],
   "source": [
    "proximity_info = pd.read_csv('output_files/Proximity_analysis.csv')\n",
    "characteristics_info = pd.read_csv('output_files/Site_characteristics.csv')"
   ]
  },
  {
   "cell_type": "markdown",
   "id": "5156a83c",
   "metadata": {},
   "source": [
    "The **proximity_info** and **characteristics_info** DataFrames are merged onto the **sites** GeoDataFrame based on the common column label **Site Name** creating a new GeoDataFrame called **sites_with_info** which contains all the site analysis results."
   ]
  },
  {
   "cell_type": "code",
   "execution_count": null,
   "id": "ab11405f",
   "metadata": {},
   "outputs": [],
   "source": [
    "sites_with_info = sites.merge(proximity_info, on='Site Name')\n",
    "sites_with_info = sites_with_info.merge(characteristics_info, on='Site Name')"
   ]
  },
  {
   "cell_type": "markdown",
   "id": "eac9da79",
   "metadata": {},
   "source": [
    "A list of site colours is then created (here they match those used in the locator map).  "
   ]
  },
  {
   "cell_type": "code",
   "execution_count": null,
   "id": "c86767b5",
   "metadata": {},
   "outputs": [],
   "source": [
    "site_colors = ['orangered', 'olivedrab', 'dodgerblue']"
   ]
  },
  {
   "cell_type": "markdown",
   "id": "547b92dd",
   "metadata": {},
   "source": [
    "A dictionary of arguments is created containing information on how we wish the **sites_with_info** to be displayed on our map.  \n",
    "\n",
    "The site colours are added to the dictionary colormap **cmap** using the **colors**’s ListedColormap() function."
   ]
  },
  {
   "cell_type": "code",
   "execution_count": null,
   "id": "cc6ef7bf",
   "metadata": {},
   "outputs": [],
   "source": [
    "sites_args = {\n",
    "    'm': m,  # add the polygons to the same map we created above\n",
    "    'cmap': colors.ListedColormap(site_colors),  # color the polygons using the site colours list previously created\n",
    "    'tooltip': False,  # remove tooltips (information when hovering)\n",
    "    'popup': True  # show the site information as a popup when we click on the polygon\n",
    "}"
   ]
  },
  {
   "cell_type": "markdown",
   "id": "1ba3ea03",
   "metadata": {},
   "source": [
    "We now plot the **sites_with_info** polygons to our map **m** by using the **sites_args** with the ** unpacking operator.\n",
    "\n",
    "*Note:* The site names will appear in a legend here."
   ]
  },
  {
   "cell_type": "code",
   "execution_count": null,
   "id": "2a0775f2",
   "metadata": {
    "scrolled": true
   },
   "outputs": [],
   "source": [
    "sites_with_info.explore('Site Name', **sites_args)"
   ]
  },
  {
   "cell_type": "markdown",
   "id": "82268d27",
   "metadata": {},
   "source": [
    "To plot the airport and harbour locations two GeoDataFrames (**airports** and **harbours**) are created. The CVS files are loaded using **panda**’s read_csv() function creating DataFrames which are then converted to GeoDataFrames (with the required information columns) using **geopanda**’s GeoDataFrame() function."
   ]
  },
  {
   "cell_type": "code",
   "execution_count": null,
   "id": "41e57e18",
   "metadata": {},
   "outputs": [],
   "source": [
    "dfa = pd.read_csv('data_files/NI_Airports.csv')  # read the CSV data\n",
    "\n",
    "# create a new GeoDataFrame\n",
    "airports = gpd.GeoDataFrame(dfa[['Name', 'Website']],  # use the CSV data, but only the Name/Website columns\n",
    "                            # set the geometry using points_from_xy()\n",
    "                            geometry=gpd.points_from_xy(dfa['Longitude'], dfa['Latitude']), \n",
    "                            crs='epsg:4326')  # set the CRS using the EPSG code for WGS84 lat/lon\n",
    "\n",
    "dfh = pd.read_csv('data_files/NI_Harbours.csv')  # read the CSV data\n",
    "\n",
    "# create a new GeoDataFrame\n",
    "harbours = gpd.GeoDataFrame(dfh[['Name', 'Website']],  # use the CSV data, but only the Name/Website columns\n",
    "                            # set the geometry using points_from_xy()\n",
    "                            geometry=gpd.points_from_xy(dfh['Longitude'], dfh['Latitude']), \n",
    "                            crs='epsg:4326')  # set the CRS using the EPSG code for WGS84 lat/lon"
   ]
  },
  {
   "cell_type": "markdown",
   "id": "e1c2a0e3",
   "metadata": {},
   "source": [
    "A dictionary of arguments is created containing information on how we wish the **airports** to be displayed on our map.\n",
    "\n",
    "*Note:* The marker style is passed to the **marker_kwds** as a dictionary."
   ]
  },
  {
   "cell_type": "code",
   "execution_count": null,
   "id": "c0da242e",
   "metadata": {},
   "outputs": [],
   "source": [
    "airport_args = {\n",
    "    'm': m,  # add the markers to the same map we created above\n",
    "    'marker_type': 'marker',  # use a marker for the points, instead of a circle\n",
    "    'tooltip': False,  # remove tooltips (information when hovering)\n",
    "    'popup': True,  # show the airport information as a popup when we click on the marker\n",
    "    'legend': False,  # don't show a separate legend for the airports\n",
    "    # make the markers red with a plane icon from FA\n",
    "    'marker_kwds': {'icon': folium.Icon(color='red', icon='plane', prefix='fa')}\n",
    "}"
   ]
  },
  {
   "cell_type": "markdown",
   "id": "6409d7ce",
   "metadata": {},
   "source": [
    "A dictionary of arguments is created containing information on how we wish the **harbours** to be displayed on our map.\n",
    "\n",
    "*Note:* The marker style is passed to the **marker_kwds** as a dictionary."
   ]
  },
  {
   "cell_type": "code",
   "execution_count": null,
   "id": "fecb9456",
   "metadata": {},
   "outputs": [],
   "source": [
    "harbours_args = {\n",
    "    'm': m,  # add the markers to the same map we created above\n",
    "    'marker_type': 'marker',  # use a marker for the points, instead of a circle\n",
    "    'tooltip': False,  # remove tooltips (information when hovering)\n",
    "    'popup': True,  # show the harbour information as a popup when we click on the marker\n",
    "    'legend': False,  # don't show a separate legend for the harbours\n",
    "    # make the markers green with a ship icon from FA\n",
    "    'marker_kwds': {'icon': folium.Icon(color='green', icon='ship', prefix='fa')} \n",
    "}"
   ]
  },
  {
   "cell_type": "markdown",
   "id": "53f73b44",
   "metadata": {},
   "source": [
    "We now plot the **airports** and **harbours** to our map **m** by using the **airports_args** and **harbours_args** with the ** unpacking operator."
   ]
  },
  {
   "cell_type": "code",
   "execution_count": null,
   "id": "f2eff06b",
   "metadata": {},
   "outputs": [],
   "source": [
    "airports.explore('Name', **airport_args)\n",
    "harbours.explore('Name', **harbours_args)"
   ]
  },
  {
   "cell_type": "markdown",
   "id": "f0f015b0",
   "metadata": {},
   "source": [
    "The map **m** is now saved to a html called **Site_analysis_results_with_transport**."
   ]
  },
  {
   "cell_type": "code",
   "execution_count": null,
   "id": "bbfc18ac",
   "metadata": {},
   "outputs": [],
   "source": [
    "m.save('output_files/Site_analysis_results_with_transport.html')"
   ]
  },
  {
   "cell_type": "markdown",
   "id": "ed079193",
   "metadata": {},
   "source": [
    "#### *The following section is optional if you wish to create a more streamlined popup for the **sites**.*"
   ]
  },
  {
   "cell_type": "markdown",
   "id": "b12aa5f4",
   "metadata": {},
   "source": [
    "A streamlined **sites_with_info** GeoDataFrame called **sites_info_streamlined** is created by creating a copy of the **sites_with_info** GeoDataFrame but with only the required columns we wish to include in the streamlined version.\n",
    "\n",
    "**Warning!** - The geometry column of the GeoDataFrame must be copied."
   ]
  },
  {
   "cell_type": "code",
   "execution_count": null,
   "id": "07ad7d97",
   "metadata": {},
   "outputs": [],
   "source": [
    "sites_info_streamlined = sites_with_info[['geometry','Site Name', 'DistNearestAONB']].copy()"
   ]
  },
  {
   "cell_type": "markdown",
   "id": "c2f775af",
   "metadata": {},
   "source": [
    "We now plot the **sites_info_streamlined** polygons to our map **m** by using the **sites_args** we defined earlier with the ** unpacking operator.\n",
    "\n",
    "*Note:* The site colours are now more opaque, the site names still appear in a legend and the **airports** and **harbours** are unaffected."
   ]
  },
  {
   "cell_type": "code",
   "execution_count": null,
   "id": "d577b61f",
   "metadata": {},
   "outputs": [],
   "source": [
    "sites_info_streamlined.explore('Site Name', **sites_args)"
   ]
  },
  {
   "cell_type": "markdown",
   "id": "10514c7a",
   "metadata": {},
   "source": [
    "The map **m** is now saved to a different html called **Site_analysis_results_with_transport_streamlined**."
   ]
  },
  {
   "cell_type": "code",
   "execution_count": null,
   "id": "2f777037",
   "metadata": {},
   "outputs": [],
   "source": [
    "m.save('output_files/Site_analysis_results_with_transport_streamlined.html')"
   ]
  },
  {
   "cell_type": "markdown",
   "id": "c20d5402",
   "metadata": {},
   "source": [
    "#### The interactive map htmls can now be found in the output_files folder."
   ]
  }
 ],
 "metadata": {
  "kernelspec": {
   "display_name": "Python 3 (ipykernel)",
   "language": "python",
   "name": "python3"
  },
  "language_info": {
   "codemirror_mode": {
    "name": "ipython",
    "version": 3
   },
   "file_extension": ".py",
   "mimetype": "text/x-python",
   "name": "python",
   "nbconvert_exporter": "python",
   "pygments_lexer": "ipython3",
   "version": "3.9.16"
  }
 },
 "nbformat": 4,
 "nbformat_minor": 5
}
